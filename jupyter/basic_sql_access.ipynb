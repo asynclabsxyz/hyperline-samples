{
 "cells": [
  {
   "cell_type": "code",
   "execution_count": 1,
   "id": "94a34bde-eb64-4221-bef5-145aa67a7728",
   "metadata": {},
   "outputs": [],
   "source": [
    "import hyperline\n",
    "import pandas as pd"
   ]
  },
  {
   "cell_type": "code",
   "execution_count": 2,
   "id": "9e6ce655-4555-4243-9fa5-2eeb05b80726",
   "metadata": {},
   "outputs": [],
   "source": [
    "query = \"SELECT * FROM hyperline.ethereum.blocks LIMIT 5\""
   ]
  },
  {
   "cell_type": "code",
   "execution_count": null,
   "id": "ffce3ba6-16aa-498d-9286-f5a2948f572f",
   "metadata": {},
   "outputs": [],
   "source": [
    "df = hyperline.sql.execute_sql(query)"
   ]
  },
  {
   "cell_type": "code",
   "execution_count": null,
   "id": "4321a3fd-9e68-47ce-a812-d2a04f17bea7",
   "metadata": {},
   "outputs": [],
   "source": [
    "with pd.option_context('display.max_colwidth', 200):\n",
    "  display(df)"
   ]
  },
  {
   "cell_type": "code",
   "execution_count": null,
   "id": "c54d1f1f",
   "metadata": {},
   "outputs": [],
   "source": [
    "result = hyperline.sql.execute_sql(\"SELECT address, eth_balance FROM \\\"bigquery-public-data\\\".\\\"crypto_ethereum\\\".\\\"balances\\\" WHERE eth_balance > 0 LIMIT 10\")"
   ]
  },
  {
   "cell_type": "code",
   "execution_count": null,
   "id": "23805b8d",
   "metadata": {},
   "outputs": [],
   "source": [
    "df = pd.DataFrame(result)\n",
    "df.columns=['address', 'balance']"
   ]
  },
  {
   "cell_type": "code",
   "execution_count": null,
   "id": "c12d8af7",
   "metadata": {},
   "outputs": [],
   "source": [
    "with pd.option_context('display.max_colwidth', None):\n",
    "  display(df)"
   ]
  }
 ],
 "metadata": {
  "kernelspec": {
   "display_name": "Python 3 (ipykernel)",
   "language": "python",
   "name": "python3"
  },
  "language_info": {
   "codemirror_mode": {
    "name": "ipython",
    "version": 3
   },
   "file_extension": ".py",
   "mimetype": "text/x-python",
   "name": "python",
   "nbconvert_exporter": "python",
   "pygments_lexer": "ipython3",
   "version": "3.11.6"
  }
 },
 "nbformat": 4,
 "nbformat_minor": 5
}
