{
 "cells": [
  {
   "cell_type": "code",
   "execution_count": 1,
   "id": "94a34bde-eb64-4221-bef5-145aa67a7728",
   "metadata": {},
   "outputs": [],
   "source": [
    "import hyperline\n",
    "import pandas as pd"
   ]
  },
  {
   "cell_type": "code",
   "execution_count": 2,
   "id": "9e6ce655-4555-4243-9fa5-2eeb05b80726",
   "metadata": {},
   "outputs": [],
   "source": [
    "query = \"SELECT * FROM hyperline.ethereum.blocks LIMIT 5\""
   ]
  },
  {
   "cell_type": "code",
   "execution_count": null,
   "id": "ffce3ba6-16aa-498d-9286-f5a2948f572f",
   "metadata": {},
   "outputs": [],
   "source": [
    "df = hyperline.sql.execute_sql(query)"
   ]
  },
  {
   "cell_type": "code",
   "execution_count": null,
   "id": "4321a3fd-9e68-47ce-a812-d2a04f17bea7",
   "metadata": {},
   "outputs": [],
   "source": [
    "with pd.option_context('display.max_colwidth', 200):\n",
    "  display(df)"
   ]
  }
 ],
 "metadata": {
  "kernelspec": {
   "display_name": "Python 3 (ipykernel)",
   "language": "python",
   "name": "python3"
  },
  "language_info": {
   "codemirror_mode": {
    "name": "ipython",
    "version": 3
   },
   "file_extension": ".py",
   "mimetype": "text/x-python",
   "name": "python",
   "nbconvert_exporter": "python",
   "pygments_lexer": "ipython3",
   "version": "3.11.6"
  }
 },
 "nbformat": 4,
 "nbformat_minor": 5
}
