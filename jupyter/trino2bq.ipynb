{
 "cells": [
  {
   "cell_type": "code",
   "execution_count": 5,
   "id": "1c996bd7-9cb2-4309-8d7a-543ab99156a2",
   "metadata": {},
   "outputs": [],
   "source": [
    "import pandas as pd\n",
    "import hyperline"
   ]
  },
  {
   "cell_type": "code",
   "execution_count": 14,
   "id": "02264f20-c875-4b6c-acfd-73c1da4a2ccb",
   "metadata": {},
   "outputs": [],
   "source": [
    "df = hyperline.sql.execute_sql(\"SELECT address, eth_balance FROM \\\"bigquery-public-data\\\".\\\"crypto_ethereum\\\".\\\"balances\\\" WHERE eth_balance > 0 LIMIT 10\")"
   ]
  },
  {
   "cell_type": "code",
   "execution_count": 15,
   "id": "5cd81073-34f2-41db-bc55-6c8ebfb2fa2d",
   "metadata": {},
   "outputs": [
    {
     "data": {
      "text/html": [
       "<div>\n",
       "<style scoped>\n",
       "    .dataframe tbody tr th:only-of-type {\n",
       "        vertical-align: middle;\n",
       "    }\n",
       "\n",
       "    .dataframe tbody tr th {\n",
       "        vertical-align: top;\n",
       "    }\n",
       "\n",
       "    .dataframe thead th {\n",
       "        text-align: right;\n",
       "    }\n",
       "</style>\n",
       "<table border=\"1\" class=\"dataframe\">\n",
       "  <thead>\n",
       "    <tr style=\"text-align: right;\">\n",
       "      <th></th>\n",
       "      <th>0</th>\n",
       "      <th>1</th>\n",
       "    </tr>\n",
       "  </thead>\n",
       "  <tbody>\n",
       "    <tr>\n",
       "      <th>0</th>\n",
       "      <td>0x7e8ad17f68ff1c077c6132626a68133caba62d83</td>\n",
       "      <td>311017472000000000.000000000</td>\n",
       "    </tr>\n",
       "    <tr>\n",
       "      <th>1</th>\n",
       "      <td>0x1b242e9f9b723ed63f3aa315b8773cef337a856f</td>\n",
       "      <td>524288000000000.000000000</td>\n",
       "    </tr>\n",
       "    <tr>\n",
       "      <th>2</th>\n",
       "      <td>0x4e09cc5666a185481470cc61ce0d2a122ffb0da8</td>\n",
       "      <td>11059200000000000.000000000</td>\n",
       "    </tr>\n",
       "    <tr>\n",
       "      <th>3</th>\n",
       "      <td>0x179709cbb087b882ce2151fcd87fcf005039a3c1</td>\n",
       "      <td>1916928000000000.000000000</td>\n",
       "    </tr>\n",
       "    <tr>\n",
       "      <th>4</th>\n",
       "      <td>0xb78f52b6b073a7674ee599b291f22e550baf85bb</td>\n",
       "      <td>30720000000000000.000000000</td>\n",
       "    </tr>\n",
       "    <tr>\n",
       "      <th>5</th>\n",
       "      <td>0xd873ee7af9717777d8a3d952b152996fc7d1ad9a</td>\n",
       "      <td>307200000000000000.000000000</td>\n",
       "    </tr>\n",
       "    <tr>\n",
       "      <th>6</th>\n",
       "      <td>0x49c60f1a62c05f9093a5ba69ef55d616b7fe75af</td>\n",
       "      <td>671744000000000.000000000</td>\n",
       "    </tr>\n",
       "    <tr>\n",
       "      <th>7</th>\n",
       "      <td>0x2d2b01b793ecf895f7237415ff9b019f755c6a79</td>\n",
       "      <td>102400000000000000.000000000</td>\n",
       "    </tr>\n",
       "    <tr>\n",
       "      <th>8</th>\n",
       "      <td>0x776f6686bddf073416f5d8b2150e56695c1f6b0b</td>\n",
       "      <td>19005440000000.000000000</td>\n",
       "    </tr>\n",
       "    <tr>\n",
       "      <th>9</th>\n",
       "      <td>0x427e5add91788d44040a223d3423abf8abf87677</td>\n",
       "      <td>6144000000000000.000000000</td>\n",
       "    </tr>\n",
       "  </tbody>\n",
       "</table>\n",
       "</div>"
      ],
      "text/plain": [
       "                                            0                             1\n",
       "0  0x7e8ad17f68ff1c077c6132626a68133caba62d83  311017472000000000.000000000\n",
       "1  0x1b242e9f9b723ed63f3aa315b8773cef337a856f     524288000000000.000000000\n",
       "2  0x4e09cc5666a185481470cc61ce0d2a122ffb0da8   11059200000000000.000000000\n",
       "3  0x179709cbb087b882ce2151fcd87fcf005039a3c1    1916928000000000.000000000\n",
       "4  0xb78f52b6b073a7674ee599b291f22e550baf85bb   30720000000000000.000000000\n",
       "5  0xd873ee7af9717777d8a3d952b152996fc7d1ad9a  307200000000000000.000000000\n",
       "6  0x49c60f1a62c05f9093a5ba69ef55d616b7fe75af     671744000000000.000000000\n",
       "7  0x2d2b01b793ecf895f7237415ff9b019f755c6a79  102400000000000000.000000000\n",
       "8  0x776f6686bddf073416f5d8b2150e56695c1f6b0b      19005440000000.000000000\n",
       "9  0x427e5add91788d44040a223d3423abf8abf87677    6144000000000000.000000000"
      ]
     },
     "metadata": {},
     "output_type": "display_data"
    }
   ],
   "source": [
    "with pd.option_context('display.max_colwidth', None):\n",
    "  display(df)"
   ]
  },
  {
   "cell_type": "code",
   "execution_count": null,
   "id": "2c3fb676-7086-4bbc-888c-d9c252aeca50",
   "metadata": {},
   "outputs": [],
   "source": []
  }
 ],
 "metadata": {
  "kernelspec": {
   "display_name": "Python 3 (ipykernel)",
   "language": "python",
   "name": "python3"
  },
  "language_info": {
   "codemirror_mode": {
    "name": "ipython",
    "version": 3
   },
   "file_extension": ".py",
   "mimetype": "text/x-python",
   "name": "python",
   "nbconvert_exporter": "python",
   "pygments_lexer": "ipython3",
   "version": "3.11.6"
  }
 },
 "nbformat": 4,
 "nbformat_minor": 5
}
